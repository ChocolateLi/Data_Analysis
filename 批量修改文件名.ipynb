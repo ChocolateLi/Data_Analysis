{
 "cells": [
  {
   "cell_type": "code",
   "execution_count": null,
   "metadata": {},
   "outputs": [],
   "source": [
    "import os\n",
    "print(os.getcwd())\n",
    "print(os.name)\n",
    "#os.mkdir(\"./文件夹的名字\")"
   ]
  },
  {
   "cell_type": "code",
   "execution_count": null,
   "metadata": {},
   "outputs": [],
   "source": [
    "import os\n",
    "# 返回绝对路径\n",
    "result = os.path.abspath(\"文件夹的名字\")\n",
    "print(result)\n",
    "# 判断是否为文件夹和文件\n",
    "print(os.path.isdir(\"文件夹的名字\"))\n",
    "print(os.path.isfile(\"批量修改文件名.ipynb\"))\n",
    "# 切分文件\n",
    "print(os.path.splitext(\"批量修改文件名.ipynb\"))\n",
    "result = os.path.getctime(\"批量修改文件名.ipynb\")\n",
    "print(result)\n",
    "# 修改为我们当前的时间格式\n",
    "import time\n",
    "timeear = time.localtime(result)\n",
    "print(timeear)\n",
    "mytime = time.strftime(\"%Y-%m-%d %H:%M:%S\",timeear)\n",
    "print(mytime)"
   ]
  },
  {
   "cell_type": "code",
   "execution_count": 26,
   "metadata": {},
   "outputs": [
    {
     "name": "stdout",
     "output_type": "stream",
     "text": [
      "D:\\File\\My_Jupyter\\analysis_test\\文件夹的名字\\google壁纸.jpg\n",
      "True\n",
      "D:\\File\\My_Jupyter\\analysis_test\\文件夹的名字\\google壁纸111.jpg\n"
     ]
    }
   ],
   "source": [
    "import os\n",
    "file_list = os.listdir(\"D:/File/My_Jupyter/analysis_test/文件夹的名字\")\n",
    "old_path = os.path.join(\"D:\\\\File\\\\My_Jupyter\\\\analysis_test\\\\文件夹的名字\",\"google壁纸.jpg\")\n",
    "new_path = os.path.join(\"D:\\\\File\\\\My_Jupyter\\\\analysis_test\\\\文件夹的名字\",\"google壁纸111.jpg\")\n",
    "# os.rename(old_path,new_path)\n",
    "# print(file_list)\n",
    "print(old_path)\n",
    "print(os.path.exists(old_path))\n",
    "print(new_path)\n",
    "os.rename(old_path,new_path)"
   ]
  },
  {
   "cell_type": "code",
   "execution_count": 34,
   "metadata": {},
   "outputs": [],
   "source": [
    "# 批量修改文件名\n",
    "def filename_modify(target_dir):\n",
    "    # 判断路径是否存在\n",
    "    if os.path.exists(target_dir)==False:\n",
    "        raise Exception(\"path is not exits\")\n",
    "    # 遍历文件夹名字\n",
    "    for file in os.listdir(target_dir):\n",
    "        # 分割文件名和拓展名\n",
    "        filename = os.path.splitext(file)[0]\n",
    "        fileExpand = os.path.splitext(file)[1]\n",
    "        # 新名字\n",
    "        newname = filename + \"-chenli-\" + fileExpand\n",
    "        # 修改名字\n",
    "        old_path = os.path.join(target_dir,file)\n",
    "        new_path = os.path.join(target_dir,newname)\n",
    "        os.rename(old_path,new_path)\n",
    "\n",
    "filename_modify(\"D:\\\\File\\\\My_Jupyter\\\\analysis_test\\\\文件夹的名字\")"
   ]
  },
  {
   "cell_type": "code",
   "execution_count": 35,
   "metadata": {},
   "outputs": [],
   "source": [
    "# 批量修改文件名\n",
    "def filename_modify(target_dir,add_str=\"\"):\n",
    "    # 判断路径是否存在\n",
    "    if os.path.exists(target_dir)==False:\n",
    "        raise Exception(\"path is not exits\")\n",
    "    # 遍历文件夹名字\n",
    "    for file in os.listdir(target_dir):\n",
    "        # 分割文件名和拓展名\n",
    "        filename = os.path.splitext(file)[0]\n",
    "        fileExpand = os.path.splitext(file)[1]\n",
    "        # 新名字\n",
    "        newname = filename + add_str + fileExpand\n",
    "        # 修改名字\n",
    "        old_path = os.path.join(target_dir,file)\n",
    "        new_path = os.path.join(target_dir,newname)\n",
    "        os.rename(old_path,new_path)\n",
    "\n",
    "filename_modify(\"D:\\\\File\\\\My_Jupyter\\\\analysis_test\\\\文件夹的名字\",\"-陈力-\")"
   ]
  },
  {
   "cell_type": "code",
   "execution_count": null,
   "metadata": {},
   "outputs": [],
   "source": []
  },
  {
   "cell_type": "code",
   "execution_count": null,
   "metadata": {},
   "outputs": [],
   "source": []
  }
 ],
 "metadata": {
  "kernelspec": {
   "display_name": "Python 3",
   "language": "python",
   "name": "python3"
  },
  "language_info": {
   "codemirror_mode": {
    "name": "ipython",
    "version": 3
   },
   "file_extension": ".py",
   "mimetype": "text/x-python",
   "name": "python",
   "nbconvert_exporter": "python",
   "pygments_lexer": "ipython3",
   "version": "3.8.5"
  }
 },
 "nbformat": 4,
 "nbformat_minor": 4
}
